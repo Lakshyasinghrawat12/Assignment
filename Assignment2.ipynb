{
 "cells": [
  {
   "cell_type": "code",
   "execution_count": 1,
   "id": "549bceca-64cf-4485-8048-95f4076aff7f",
   "metadata": {},
   "outputs": [
    {
     "data": {
      "text/plain": [
       "\"\\nComments in Python are the lines in the code that are\\nignored by the interpreter during the execution of the program.\\nTypes of comments are :\\nSingle line Comments -> given by # (example - # this is comment)\\nMultiline Comments   -> Muti line comment in which we use triple single quote ''' '''\\nand triple double quote .To comment the code\\n\""
      ]
     },
     "execution_count": 1,
     "metadata": {},
     "output_type": "execute_result"
    }
   ],
   "source": [
    "# Q1. How do you comment code in Python? What are the different types of comments?\n",
    "\n",
    "\"\"\"\n",
    "Comments in Python are the lines in the code that are\n",
    "ignored by the interpreter during the execution of the program.\n",
    "Types of comments are :\n",
    "Single line Comments -> given by # (example - # this is comment)\n",
    "Multiline Comments   -> Muti line comment in which we use triple single quote ''' '''\n",
    "and triple double quote \"\"\"\"\"\".To comment the code\n",
    "\"\"\""
   ]
  },
  {
   "cell_type": "code",
   "execution_count": 2,
   "id": "2a3e86e5-0e12-44e1-aaee-60a2b3e986f9",
   "metadata": {},
   "outputs": [],
   "source": [
    "# Q2. What are variables in Python? How do you declare and assign values to variables?\n",
    "\n",
    "# Variables are containers for storing data values.\n",
    "# we declare by using alphabet or underscore\n",
    "# syntax -> var_name = value"
   ]
  },
  {
   "cell_type": "code",
   "execution_count": 3,
   "id": "f7d70e84-5d09-4bdb-a2a4-bd08e56df96c",
   "metadata": {},
   "outputs": [
    {
     "data": {
      "text/plain": [
       "'\\nint to float-> float(10)\\nfloat to int->int(10.5)\\nint or float to string->str(10) or str(10.5)\\nlist to tupple->list([1,4,,6])\\ntupple to list->list((1,5,7))\\netc\\n\\nso that mean we can convert various datatype one to other by using in-build method of python\\n'"
      ]
     },
     "execution_count": 3,
     "metadata": {},
     "output_type": "execute_result"
    }
   ],
   "source": [
    "# Q3. How do you convert one data type to another in Python?\n",
    "\n",
    "\n",
    "# we convert datatypes using in build function\n",
    "# examples\n",
    "\"\"\"\n",
    "int to float-> float(10)\n",
    "float to int->int(10.5)\n",
    "int or float to string->str(10) or str(10.5)\n",
    "list to tupple->list([1,4,,6])\n",
    "tupple to list->list((1,5,7))\n",
    "etc\n",
    "\n",
    "so that mean we can convert various datatype one to other by using in-build method of python\n",
    "\"\"\""
   ]
  },
  {
   "cell_type": "code",
   "execution_count": 4,
   "id": "00d54d26-5702-4c8f-bb19-f7a33c057431",
   "metadata": {},
   "outputs": [
    {
     "data": {
      "text/plain": [
       "\"\\nThe most basic and easy way to run a Python script is by using the python command. \\nYou need to open a command line and type the word python followed by the path to your script file like this:\\n\\npython test.py\\nHello World!\\n\\nThen you hit the ENTER button from the keyboard, and that's it.\\nYou will get the output simply.\\n\\n\""
      ]
     },
     "execution_count": 4,
     "metadata": {},
     "output_type": "execute_result"
    }
   ],
   "source": [
    "# Q4. How do you write and execute a Python script from the command line?\n",
    "\n",
    "\"\"\"\n",
    "The most basic and easy way to run a Python script is by using the python command. \n",
    "You need to open a command line and type the word python followed by the path to your script file like this:\n",
    "\n",
    "python test.py\n",
    "Hello World!\n",
    "\n",
    "Then you hit the ENTER button from the keyboard, and that's it.\n",
    "You will get the output simply.\n",
    "\n",
    "\"\"\""
   ]
  },
  {
   "cell_type": "code",
   "execution_count": 7,
   "id": "72ea8912-2434-489b-b518-978177c85c5c",
   "metadata": {},
   "outputs": [
    {
     "name": "stdout",
     "output_type": "stream",
     "text": [
      "[2, 3]\n"
     ]
    }
   ],
   "source": [
    "# Q5. Given a list my_list = [1, 2, 3, 4, 5], write the code to slice the list and obtain the sub-list [2, 3].\n",
    "\n",
    "my_list = [1, 2, 3, 4, 5]\n",
    "print(my_list[1:3])"
   ]
  },
  {
   "cell_type": "code",
   "execution_count": 14,
   "id": "3f47bec2-3551-4b0f-a5fa-9cf3828ec137",
   "metadata": {},
   "outputs": [
    {
     "name": "stdout",
     "output_type": "stream",
     "text": [
      "(3+4j) \n",
      " <class 'complex'>\n"
     ]
    }
   ],
   "source": [
    "# Q6. What is a complex number in mathematics, and how is it represented in Python?\n",
    "\n",
    "\"\"\"\n",
    "The complex number is basically the combination of a real number and an imaginary number. \n",
    "The complex number is in the form of a+ib\n",
    "where a is real part and b is imaginary part\n",
    "\n",
    "In python declaration syntax -> var_name = a + ib\n",
    "\"\"\"\n",
    "complex_number = 3+4j\n",
    "print(complex_number, \"\\n\",type(complex_number))"
   ]
  },
  {
   "cell_type": "code",
   "execution_count": 15,
   "id": "fbefdd75-b129-43a7-a6c8-a350619702fd",
   "metadata": {},
   "outputs": [
    {
     "name": "stdout",
     "output_type": "stream",
     "text": [
      "25\n"
     ]
    }
   ],
   "source": [
    "# Q7. What is the correct way to declare a variable named age and assign the value 25 to it?\n",
    "\n",
    "\n",
    "age = 25\n",
    "print(age)"
   ]
  },
  {
   "cell_type": "code",
   "execution_count": 16,
   "id": "f7bd16f5-7968-48b1-8cbf-cc0b9ee71d73",
   "metadata": {},
   "outputs": [
    {
     "name": "stdout",
     "output_type": "stream",
     "text": [
      "<class 'float'> \n",
      " 9.99\n"
     ]
    }
   ],
   "source": [
    "# Q8. Declare a variable named price and assign the value 9.99 to it. What data type does this variable\n",
    "# belong to?\n",
    "\n",
    "price= 9.99\n",
    "print(type(price), \"\\n\", price)"
   ]
  },
  {
   "cell_type": "code",
   "execution_count": 17,
   "id": "48a75d24-f7ba-4f98-9523-8bc652483f97",
   "metadata": {},
   "outputs": [
    {
     "name": "stdout",
     "output_type": "stream",
     "text": [
      "Lakshya Singh Rawat\n"
     ]
    }
   ],
   "source": [
    "# Q9. Create a variable named name and assign your full name to it as a string. How would you print the\n",
    "# value of this variable?\n",
    "\n",
    "name=\"Lakshya Singh Rawat\"\n",
    "print(name)"
   ]
  },
  {
   "cell_type": "code",
   "execution_count": 22,
   "id": "6e2bca08-1ef5-4b90-b9fa-b9872559a6e5",
   "metadata": {},
   "outputs": [
    {
     "name": "stdout",
     "output_type": "stream",
     "text": [
      " World\n"
     ]
    }
   ],
   "source": [
    "# Q10. Given the string \"Hello, World!\", extract the substring \"World\".\n",
    "\n",
    "statement=\"Hello, World!\"\n",
    "print(statement[6:12])"
   ]
  },
  {
   "cell_type": "code",
   "execution_count": null,
   "id": "7c36ef66-c580-416a-96fc-4dad597e1d5b",
   "metadata": {},
   "outputs": [],
   "source": [
    "# Q11. Create a variable named \"is_student\" and assign it a boolean value indicating whether you are\n",
    "# currently a student or not.\n",
    "\n",
    "\n",
    "is_student= True"
   ]
  }
 ],
 "metadata": {
  "kernelspec": {
   "display_name": "Python 3 (ipykernel)",
   "language": "python",
   "name": "python3"
  },
  "language_info": {
   "codemirror_mode": {
    "name": "ipython",
    "version": 3
   },
   "file_extension": ".py",
   "mimetype": "text/x-python",
   "name": "python",
   "nbconvert_exporter": "python",
   "pygments_lexer": "ipython3",
   "version": "3.10.8"
  }
 },
 "nbformat": 4,
 "nbformat_minor": 5
}
