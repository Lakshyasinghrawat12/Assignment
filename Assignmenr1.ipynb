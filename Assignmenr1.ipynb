{
 "cells": [
  {
   "cell_type": "code",
   "execution_count": 1,
   "id": "f5ea80fc-de5e-4ddf-88b7-d7bbe985ebb7",
   "metadata": {},
   "outputs": [
    {
     "name": "stdout",
     "output_type": "stream",
     "text": [
      "<class 'str'> Lakshya\n",
      "<class 'list'> [1, 2, 4, 'lakshya', 5]\n",
      "<class 'float'> 11.56\n",
      "<class 'tuple'> ('Lakshya', 'Singh', 2)\n"
     ]
    }
   ],
   "source": [
    "# Q1. Create one variable containing following type of data:\n",
    "# (i) string\n",
    "# (ii) list\n",
    "# (iii) float\n",
    "# (iv) tuple\n",
    "\n",
    "name=\"Lakshya\"\n",
    "lst=[1, 2, 4, \"lakshya\", 5]\n",
    "flo_num= 11.56\n",
    "tup=(\"Lakshya\", \"Singh\", 2)\n",
    "print(type(name), name)\n",
    "print(type(lst), lst)\n",
    "print(type(flo_num), flo_num)\n",
    "print(type(tup), tup)"
   ]
  },
  {
   "cell_type": "code",
   "execution_count": 2,
   "id": "15f4b616-05b8-461e-869e-c2a6cb1c339a",
   "metadata": {},
   "outputs": [
    {
     "name": "stdout",
     "output_type": "stream",
     "text": [
      "<class 'str'>  \n",
      "<class 'str'> [ DS, ML, Python]\n",
      "<class 'list'> ['DS', 'ML', 'Python']\n",
      "<class 'int'> 1\n"
     ]
    }
   ],
   "source": [
    "# Q2. Given are some following variables containing data:\n",
    "# (i) var1 = ‘ ‘\n",
    "# (ii) var2 = ‘[ DS , ML , Python]’\n",
    "# (iii) var3 = [ ‘DS’ , ’ML’ , ‘Python’ ]\n",
    "# (iv) var4 = 1.\n",
    "\n",
    "# What will be the data type of the above given variable.\n",
    "\n",
    "\n",
    "var1 =' '\n",
    "var2 ='[ DS, ML, Python]'\n",
    "var3 = [ 'DS' , 'ML' , 'Python' ]\n",
    "var4 = 1\n",
    "print(type(var1), var1)\n",
    "print(type(var2), var2)\n",
    "print(type(var3), var3)\n",
    "print(type(var4), var4)"
   ]
  },
  {
   "cell_type": "code",
   "execution_count": 5,
   "id": "b6f2188e-d49b-4a63-8016-bc3653bf379e",
   "metadata": {},
   "outputs": [
    {
     "name": "stdin",
     "output_type": "stream",
     "text": [
      "enter the first number 12\n",
      "enter the second number 2\n"
     ]
    },
    {
     "name": "stdout",
     "output_type": "stream",
     "text": [
      "Division of A and B= 6.0\n",
      "Modules of A and B= 0\n",
      "Floor division of A and B= 6\n",
      "Exponentiation of A and B= 144\n"
     ]
    }
   ],
   "source": [
    "# Q3. Explain the use of the following operators using an example:\n",
    "# (i) /\n",
    "# (ii) %\n",
    "# (iii) //\n",
    "# (iv) **\n",
    "\n",
    "# / Division operator\n",
    "A=int(input(\"enter the first number\"))\n",
    "B=int(input(\"enter the second number\"))\n",
    "div= A/B\n",
    "print(\"Division of A and B=\",div)\n",
    "# % Modules operator\n",
    "mod= A%B\n",
    "print(\"Modules of A and B=\",mod)\n",
    "# // Floor division operator\n",
    "F_div= A//B\n",
    "print(\"Floor division of A and B=\", F_div)\n",
    "# ** Exponentiation operator\n",
    "expo= A**B\n",
    "print(\"Exponentiation of A and B=\", expo)"
   ]
  },
  {
   "cell_type": "code",
   "execution_count": 7,
   "id": "1f3397ee-4310-4959-b317-16b41d53ff17",
   "metadata": {},
   "outputs": [
    {
     "name": "stdout",
     "output_type": "stream",
     "text": [
      "1 <class 'int'>\n",
      "2 <class 'int'>\n",
      "Lakshya <class 'str'>\n",
      "[1, 2] <class 'list'>\n",
      "('lakshya', 'Singh') <class 'tuple'>\n",
      "{'banana', 'cherry', 'apple'} <class 'set'>\n"
     ]
    }
   ],
   "source": [
    "# Q4. Create a list of length 10 of your choice containing multiple types of data. Using for loop print the\n",
    "# element and its data type.\n",
    "\n",
    "lst =[1, 2, \"Lakshya\", [1, 2], (\"lakshya\", \"Singh\"), {\"apple\", \"banana\", \"cherry\"}]\n",
    "for i in lst:\n",
    "    print(i, type(i))"
   ]
  },
  {
   "cell_type": "code",
   "execution_count": 16,
   "id": "612afbe2-83e3-408d-ab70-71efc01fe985",
   "metadata": {},
   "outputs": [
    {
     "name": "stdin",
     "output_type": "stream",
     "text": [
      "Enter first numbere 12\n",
      "Enter second number 4\n"
     ]
    },
    {
     "name": "stdout",
     "output_type": "stream",
     "text": [
      "1 Times purely divisible\n"
     ]
    }
   ],
   "source": [
    "#Q5. Using a while loop, verify if the number A is purely divisible by number B and if so then how many\n",
    "# times it can be divisible.\n",
    "\n",
    "A= int(input(\"Enter first numbere\"))\n",
    "B= int(input(\"Enter second number\"))\n",
    "count=0\n",
    "while True:\n",
    "    if(A % B == 0):\n",
    "        A = A / B\n",
    "        count = count + 1\n",
    "    else:\n",
    "        print(count ,\"Times purely divisible\")\n",
    "        break"
   ]
  },
  {
   "cell_type": "code",
   "execution_count": 18,
   "id": "0fc1b75f-fb35-4cf6-a7c2-351782c77edf",
   "metadata": {},
   "outputs": [
    {
     "name": "stdout",
     "output_type": "stream",
     "text": [
      "0 is divisible by 3\n",
      "1 is not divisible by 3\n",
      "2 is not divisible by 3\n",
      "3 is divisible by 3\n",
      "4 is not divisible by 3\n",
      "5 is not divisible by 3\n",
      "6 is divisible by 3\n",
      "7 is not divisible by 3\n",
      "8 is not divisible by 3\n",
      "9 is divisible by 3\n",
      "10 is not divisible by 3\n",
      "11 is not divisible by 3\n",
      "12 is divisible by 3\n",
      "13 is not divisible by 3\n",
      "14 is not divisible by 3\n",
      "15 is divisible by 3\n",
      "16 is not divisible by 3\n",
      "17 is not divisible by 3\n",
      "18 is divisible by 3\n",
      "19 is not divisible by 3\n",
      "20 is not divisible by 3\n",
      "21 is divisible by 3\n",
      "22 is not divisible by 3\n",
      "23 is not divisible by 3\n",
      "24 is divisible by 3\n"
     ]
    }
   ],
   "source": [
    "#Q6. Create a list containing 25 int type data. Using for loop and if-else condition print if the element is\n",
    "# divisible by 3 or not.\n",
    "\n",
    "lst= list(range(25))\n",
    "for i in lst:\n",
    "    if i % 3 == 0:\n",
    "        print(i , \"is divisible by 3\")\n",
    "    else:\n",
    "        print(i , \"is not divisible by 3\")"
   ]
  },
  {
   "cell_type": "code",
   "execution_count": 23,
   "id": "6d8d6b11-f4b2-44a0-9bec-97ddaa89c281",
   "metadata": {},
   "outputs": [
    {
     "name": "stdout",
     "output_type": "stream",
     "text": [
      "['Lakshya', 'Singh']\n"
     ]
    },
    {
     "ename": "IndexError",
     "evalue": "list assignment index out of range",
     "output_type": "error",
     "traceback": [
      "\u001b[0;31m---------------------------------------------------------------------------\u001b[0m",
      "\u001b[0;31mIndexError\u001b[0m                                Traceback (most recent call last)",
      "Cell \u001b[0;32mIn[23], line 8\u001b[0m\n\u001b[1;32m      6\u001b[0m lst4\u001b[38;5;241m=\u001b[39m[\u001b[38;5;124m\"\u001b[39m\u001b[38;5;124mLakshya\u001b[39m\u001b[38;5;124m\"\u001b[39m , \u001b[38;5;124m\"\u001b[39m\u001b[38;5;124mSingh\u001b[39m\u001b[38;5;124m\"\u001b[39m]\n\u001b[1;32m      7\u001b[0m \u001b[38;5;28mprint\u001b[39m(lst4)\n\u001b[0;32m----> 8\u001b[0m \u001b[43mlst4\u001b[49m\u001b[43m[\u001b[49m\u001b[38;5;241;43m2\u001b[39;49m\u001b[43m]\u001b[49m\u001b[38;5;241m=\u001b[39m\u001b[38;5;124m\"\u001b[39m\u001b[38;5;124mRawat\u001b[39m\u001b[38;5;124m\"\u001b[39m\n\u001b[1;32m      9\u001b[0m \u001b[38;5;28mprint\u001b[39m(lst4 , \u001b[38;5;124m\"\u001b[39m\u001b[38;5;130;01m\\n\u001b[39;00m\u001b[38;5;124m\"\u001b[39m)\n\u001b[1;32m     11\u001b[0m \u001b[38;5;66;03m# Imutable datatype - An object whose internal state cannot be changed is called immutable. Their values cannot be modified after its creation.\u001b[39;00m\n\u001b[1;32m     12\u001b[0m \u001b[38;5;66;03m# for example a number, a string, and a tuple. .\u001b[39;00m\n",
      "\u001b[0;31mIndexError\u001b[0m: list assignment index out of range"
     ]
    }
   ],
   "source": [
    "# Q7. What do you understand about mutable and immutable data types? Give examples for both showing\n",
    "# this property.\n",
    "\n",
    "# mutable datatype - Mutable datatypes are those that allow you to change their value after its creation(modification in thier values).\n",
    "# example of mutable datatype -> list , set , dictionary\n",
    "lst4=[\"Lakshya\" , \"Singh\"]\n",
    "print(lst4)\n",
    "lst4[\n",
    "print(lst4 , \"\\n\")\n",
    "\n",
    "# Imutable datatype - An object whose internal state cannot be changed is called immutable. Their values cannot be modified after its creation.\n",
    "# for example a number, a string, and a tuple. .\n",
    "\n",
    "str1=\"DataScience\"\n",
    "print(str1)\n",
    "\n",
    "# below two code through error due to imutable nature of string\n",
    "#str1[2]=\"d\"\n",
    "#print(str1)"
   ]
  },
  {
   "cell_type": "code",
   "execution_count": null,
   "id": "aa0f95a8-7bce-45c9-9b42-b5bc774880c1",
   "metadata": {},
   "outputs": [],
   "source": []
  }
 ],
 "metadata": {
  "kernelspec": {
   "display_name": "Python 3 (ipykernel)",
   "language": "python",
   "name": "python3"
  },
  "language_info": {
   "codemirror_mode": {
    "name": "ipython",
    "version": 3
   },
   "file_extension": ".py",
   "mimetype": "text/x-python",
   "name": "python",
   "nbconvert_exporter": "python",
   "pygments_lexer": "ipython3",
   "version": "3.10.8"
  }
 },
 "nbformat": 4,
 "nbformat_minor": 5
}
